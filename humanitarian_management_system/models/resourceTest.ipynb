{
 "cells": [
  {
   "cell_type": "code",
   "execution_count": 1,
   "metadata": {},
   "outputs": [],
   "source": [
    "import pandas as pd\n",
    "import numpy as np\n",
    "from pathlib import Path\n",
    "from resourceReport import ResourceReport"
   ]
  },
  {
   "cell_type": "code",
   "execution_count": 2,
   "metadata": {},
   "outputs": [],
   "source": [
    "instance = ResourceReport()\n",
    "df = instance.camp_df"
   ]
  },
  {
   "cell_type": "code",
   "execution_count": 3,
   "metadata": {},
   "outputs": [
    {
     "name": "stdout",
     "output_type": "stream",
     "text": [
      "   campID status  refugeePop\n",
      "0       3   open           5\n",
      "1       5   open          12\n",
      "2       9   open           2\n",
      "3      11   open           1\n"
     ]
    }
   ],
   "source": [
    "condition = (df['status'] == 'open') & (df['refugeePop'] > 0)\n",
    "filtered_df = df[condition][['campID', 'status', 'refugeePop']].reset_index(drop=True)\n",
    "print(filtered_df)"
   ]
  },
  {
   "cell_type": "code",
   "execution_count": 4,
   "metadata": {},
   "outputs": [
    {
     "name": "stdout",
     "output_type": "stream",
     "text": [
      "   resourceID campID  qty\n",
      "0           1      3   50\n",
      "1           2      3   50\n",
      "2           3      3   50\n",
      "3           4      3   50\n",
      "4           5      3   50\n",
      "5           6      3   50\n",
      "6           7      3   50\n",
      "7           8      3   50\n",
      "8           9      3   50\n",
      "9          10      3   50\n",
      "10          1      5  120\n",
      "11          2      5  120\n",
      "12          3      5  120\n",
      "13          4      5  120\n",
      "14          5      5  120\n",
      "15          6      5  120\n",
      "16          7      5  120\n",
      "17          8      5  120\n",
      "18          9      5  120\n",
      "19         10      5  120\n",
      "20          1      9   20\n",
      "21          2      9   20\n",
      "22          3      9   20\n",
      "23          4      9   20\n",
      "24          5      9   20\n",
      "25          6      9   20\n",
      "26          7      9   20\n",
      "27          8      9   20\n",
      "28          9      9   20\n",
      "29         10      9   20\n",
      "30          1     11   10\n",
      "31          2     11   10\n",
      "32          3     11   10\n",
      "33          4     11   10\n",
      "34          5     11   10\n",
      "35          6     11   10\n",
      "36          7     11   10\n",
      "37          8     11   10\n",
      "38          9     11   10\n",
      "39         10     11   10\n"
     ]
    }
   ],
   "source": [
    "# Initialize an empty DataFrame for the final result\n",
    "final_df = pd.DataFrame(columns=['resourceID','campID','qty'])\n",
    "new_camps_df = filtered_df\n",
    "\n",
    "# Iterate over the base DataFrame\n",
    "for index, row in new_camps_df.iterrows():\n",
    "    # Create a temporary DataFrame for col1 values and the current values of col2 and col3\n",
    "    temp_df = pd.DataFrame({\n",
    "        'resourceID': range(1, 11),  # 1 to 10 for col1\n",
    "        'campID': row['campID'],\n",
    "        'qty': row['refugeePop'] * 10\n",
    "    })\n",
    "\n",
    "    # Concatenate the temporary DataFrame to the final DataFrame\n",
    "    final_df = pd.concat([final_df, temp_df], ignore_index=True)\n",
    "\n",
    "print(final_df)\n",
    "\n",
    "## then just need to add this over to the files; and recalculate the files\n",
    "## we need to force the admin to deal w new camps before anything else. \n",
    "\n",
    "## validaiton msg too !"
   ]
  },
  {
   "cell_type": "code",
   "execution_count": 5,
   "metadata": {},
   "outputs": [
    {
     "data": {
      "text/html": [
       "<div>\n",
       "<style scoped>\n",
       "    .dataframe tbody tr th:only-of-type {\n",
       "        vertical-align: middle;\n",
       "    }\n",
       "\n",
       "    .dataframe tbody tr th {\n",
       "        vertical-align: top;\n",
       "    }\n",
       "\n",
       "    .dataframe thead th {\n",
       "        text-align: right;\n",
       "    }\n",
       "</style>\n",
       "<table border=\"1\" class=\"dataframe\">\n",
       "  <thead>\n",
       "    <tr style=\"text-align: right;\">\n",
       "      <th></th>\n",
       "      <th>resourceID</th>\n",
       "      <th>campID</th>\n",
       "      <th>qty</th>\n",
       "    </tr>\n",
       "  </thead>\n",
       "  <tbody>\n",
       "    <tr>\n",
       "      <th>0</th>\n",
       "      <td>1</td>\n",
       "      <td>3</td>\n",
       "      <td>2292</td>\n",
       "    </tr>\n",
       "    <tr>\n",
       "      <th>1</th>\n",
       "      <td>2</td>\n",
       "      <td>3</td>\n",
       "      <td>648</td>\n",
       "    </tr>\n",
       "    <tr>\n",
       "      <th>2</th>\n",
       "      <td>3</td>\n",
       "      <td>3</td>\n",
       "      <td>288</td>\n",
       "    </tr>\n",
       "    <tr>\n",
       "      <th>3</th>\n",
       "      <td>4</td>\n",
       "      <td>3</td>\n",
       "      <td>31</td>\n",
       "    </tr>\n",
       "    <tr>\n",
       "      <th>4</th>\n",
       "      <td>5</td>\n",
       "      <td>3</td>\n",
       "      <td>19</td>\n",
       "    </tr>\n",
       "    <tr>\n",
       "      <th>...</th>\n",
       "      <td>...</td>\n",
       "      <td>...</td>\n",
       "      <td>...</td>\n",
       "    </tr>\n",
       "    <tr>\n",
       "      <th>90</th>\n",
       "      <td>6</td>\n",
       "      <td>11</td>\n",
       "      <td>10</td>\n",
       "    </tr>\n",
       "    <tr>\n",
       "      <th>91</th>\n",
       "      <td>7</td>\n",
       "      <td>11</td>\n",
       "      <td>10</td>\n",
       "    </tr>\n",
       "    <tr>\n",
       "      <th>92</th>\n",
       "      <td>8</td>\n",
       "      <td>11</td>\n",
       "      <td>10</td>\n",
       "    </tr>\n",
       "    <tr>\n",
       "      <th>93</th>\n",
       "      <td>9</td>\n",
       "      <td>11</td>\n",
       "      <td>10</td>\n",
       "    </tr>\n",
       "    <tr>\n",
       "      <th>94</th>\n",
       "      <td>10</td>\n",
       "      <td>11</td>\n",
       "      <td>10</td>\n",
       "    </tr>\n",
       "  </tbody>\n",
       "</table>\n",
       "<p>95 rows × 3 columns</p>\n",
       "</div>"
      ],
      "text/plain": [
       "   resourceID campID   qty\n",
       "0           1      3  2292\n",
       "1           2      3   648\n",
       "2           3      3   288\n",
       "3           4      3    31\n",
       "4           5      3    19\n",
       "..        ...    ...   ...\n",
       "90          6     11    10\n",
       "91          7     11    10\n",
       "92          8     11    10\n",
       "93          9     11    10\n",
       "94         10     11    10\n",
       "\n",
       "[95 rows x 3 columns]"
      ]
     },
     "execution_count": 5,
     "metadata": {},
     "output_type": "execute_result"
    }
   ],
   "source": [
    "new_map = pd.concat([instance.resourceAllocs_df, final_df], ignore_index=True)\n",
    "pd.reset_option('display.max_rows')\n",
    "pd.reset_option('display.max_columns')\n",
    "\n",
    "new_map.head(100)"
   ]
  },
  {
   "cell_type": "code",
   "execution_count": 6,
   "metadata": {},
   "outputs": [
    {
     "name": "stdout",
     "output_type": "stream",
     "text": [
      "    resourceID                      name  total  priorityLvl\n",
      "0            1                  Blankets  10284            2\n",
      "1            2                  Clothing   3051            1\n",
      "2            3                      Toys   1467            3\n",
      "3            4                  Medicine    336            1\n",
      "4            5                  Vitamins    285            2\n",
      "5            6                      Food    302            1\n",
      "6            7                    Snacks    266            3\n",
      "7            8                Toiletries    285            2\n",
      "8            9                     Water    401            1\n",
      "9           10             Baby Supplies    302            1\n",
      "10          11  General Tools & Supplies  50095            3\n"
     ]
    }
   ],
   "source": [
    "df2 = instance.resourceStock_generator(new_map)\n",
    "print(df2)"
   ]
  }
 ],
 "metadata": {
  "kernelspec": {
   "display_name": ".venv",
   "language": "python",
   "name": "python3"
  },
  "language_info": {
   "codemirror_mode": {
    "name": "ipython",
    "version": 3
   },
   "file_extension": ".py",
   "mimetype": "text/x-python",
   "name": "python",
   "nbconvert_exporter": "python",
   "pygments_lexer": "ipython3",
   "version": "3.9.6"
  },
  "orig_nbformat": 4
 },
 "nbformat": 4,
 "nbformat_minor": 2
}
