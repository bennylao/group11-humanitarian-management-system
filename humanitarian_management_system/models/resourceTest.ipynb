{
 "cells": [
  {
   "cell_type": "code",
   "execution_count": 5,
   "metadata": {},
   "outputs": [],
   "source": [
    "import pandas as pd\n",
    "import numpy as np\n",
    "from pathlib import Path\n",
    "from resourceReport import ResourceReport"
   ]
  },
  {
   "cell_type": "code",
   "execution_count": 6,
   "metadata": {},
   "outputs": [],
   "source": [
    "# Define the data as a list of lists. Each inner list represents a row in the DataFrame.\n",
    "data = [\n",
    "    [9, \"Water\", 52, None, 99, \"[2] UNASSIGN: camp -> inventory\"],\n",
    "    [10, \"Baby Supplies\", 55, 57.0, 93, \"[3] RE-ASSIGN: camp <-> camp\"]\n",
    "]\n",
    "\n",
    "# Define the column names.\n",
    "columns = [\"resourceID\", \"name\", \"origin_campID\", \"destination_campID\", \"moveUnits\", \"actionInfo\"]\n",
    "\n",
    "# Create the DataFrame.\n",
    "df = pd.DataFrame(data, columns=columns)"
   ]
  },
  {
   "cell_type": "code",
   "execution_count": 4,
   "metadata": {},
   "outputs": [],
   "source": [
    "family_id = input(\"\\nEnter family identification: \")\n",
    "if family_id == 'RETURN':\n",
    "    ''\n",
    "else:\n",
    "    try:\n",
    "        if family_id != int:\n",
    "            raise ValueError\n",
    "    except ValueError:\n",
    "            print(\"Must be a numerical value!\")"
   ]
  }
 ],
 "metadata": {
  "kernelspec": {
   "display_name": ".venv",
   "language": "python",
   "name": "python3"
  },
  "language_info": {
   "codemirror_mode": {
    "name": "ipython",
    "version": 3
   },
   "file_extension": ".py",
   "mimetype": "text/x-python",
   "name": "python",
   "nbconvert_exporter": "python",
   "pygments_lexer": "ipython3",
   "version": "3.9.6"
  },
  "orig_nbformat": 4
 },
 "nbformat": 4,
 "nbformat_minor": 2
}
