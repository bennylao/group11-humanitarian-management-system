{
 "cells": [
  {
   "cell_type": "code",
   "execution_count": 1,
   "metadata": {},
   "outputs": [],
   "source": [
    "import pandas as pd\n",
    "import numpy as np\n",
    "from pathlib import Path\n",
    "from resourceReport import ResourceReport"
   ]
  },
  {
   "cell_type": "code",
   "execution_count": 64,
   "metadata": {},
   "outputs": [],
   "source": [
    "instance = ResourceReport()\n",
    "df = instance.camp_df"
   ]
  },
  {
   "cell_type": "code",
   "execution_count": 65,
   "metadata": {},
   "outputs": [
    {
     "name": "stdout",
     "output_type": "stream",
     "text": [
      "    resourceID                      name  priorityLvl  unallocTotal     9  \\\n",
      "0            1                  Blankets            2             0   838   \n",
      "1            2                  Clothing            1             0   240   \n",
      "2            3                      Toys            3             0   109   \n",
      "3            4                  Medicine            1             0    15   \n",
      "4            5                  Vitamins            2             0    86   \n",
      "5            6                      Food            1             0    13   \n",
      "6            7                    Snacks            3             0    10   \n",
      "7            8                Toiletries            2             0    11   \n",
      "8            9                     Water            1             0    21   \n",
      "9           10             Baby Supplies            1             0    13   \n",
      "10          11  General Tools & Supplies            3             0  4144   \n",
      "\n",
      "      11     26     49  \n",
      "0    419   2094   5025  \n",
      "1    120    599   1438  \n",
      "2     54    272    653  \n",
      "3      8     38     92  \n",
      "4     43    214    513  \n",
      "5      6     32     76  \n",
      "6      5     24     57  \n",
      "7      6     28     67  \n",
      "8     10     52    124  \n",
      "9      6     32     76  \n",
      "10  2072  10361  24866  \n",
      "Index([9, 11, 26, 49], dtype='object')\n"
     ]
    }
   ],
   "source": [
    "table = instance.master_resource_stats()\n",
    "print(table)   ### our input pivot camp\n",
    "camps_with_resources = table.columns[4:] ### range of campIDs\n",
    "print(camps_with_resources)"
   ]
  },
  {
   "cell_type": "code",
   "execution_count": 66,
   "metadata": {},
   "outputs": [
    {
     "name": "stdout",
     "output_type": "stream",
     "text": [
      "    resourceID                      name  priorityLvl  unallocTotal  campID 9  \\\n",
      "0            1                  Blankets            2             0       838   \n",
      "1            2                  Clothing            1             0       240   \n",
      "2            3                      Toys            3             0       109   \n",
      "3            4                  Medicine            1             0        15   \n",
      "4            5                  Vitamins            2             0        86   \n",
      "5            6                      Food            1             0        13   \n",
      "6            7                    Snacks            3             0        10   \n",
      "7            8                Toiletries            2             0        11   \n",
      "8            9                     Water            1             0        21   \n",
      "9           10             Baby Supplies            1             0        13   \n",
      "10          11  General Tools & Supplies            3             0      4144   \n",
      "\n",
      "    campID 11  campID 26  campID 49  \n",
      "0         419       2094       5025  \n",
      "1         120        599       1438  \n",
      "2          54        272        653  \n",
      "3           8         38         92  \n",
      "4          43        214        513  \n",
      "5           6         32         76  \n",
      "6           5         24         57  \n",
      "7           6         28         67  \n",
      "8          10         52        124  \n",
      "9           6         32         76  \n",
      "10       2072      10361      24866  \n"
     ]
    }
   ],
   "source": [
    "col_names = table.columns[4:].tolist()\n",
    "for col in table.columns[4:]:\n",
    "    table = table.rename(columns = {col: 'campID ' + str(col)}) ## the col selects the right column\n",
    "\n",
    "print(table)\n"
   ]
  },
  {
   "cell_type": "code",
   "execution_count": 70,
   "metadata": {},
   "outputs": [
    {
     "name": "stdout",
     "output_type": "stream",
     "text": [
      "    resourceID                      name  priorityLvl  unallocTotal  campID 9  \\\n",
      "0            1                  Blankets            2             0       838   \n",
      "1            2                  Clothing            1             0       240   \n",
      "2            3                      Toys            3             0       109   \n",
      "3            4                  Medicine            1             0        15   \n",
      "4            5                  Vitamins            2             0        86   \n",
      "5            6                      Food            1             0        13   \n",
      "6            7                    Snacks            3             0        10   \n",
      "7            8                Toiletries            2             0        11   \n",
      "8            9                     Water            1             0        21   \n",
      "9           10             Baby Supplies            1             0        13   \n",
      "10          11  General Tools & Supplies            3             0      4144   \n",
      "\n",
      "    campID 11  campID 26  campID 49  total per resource  \n",
      "0         419       2094       5025               25128  \n",
      "1         120        599       1438                7191  \n",
      "2          54        272        653                3264  \n",
      "3           8         38         92                 459  \n",
      "4          43        214        513                2568  \n",
      "5           6         32         76                 381  \n",
      "6           5         24         57                 288  \n",
      "7           6         28         67                 336  \n",
      "8          10         52        124                 621  \n",
      "9           6         32         76                 381  \n",
      "10       2072      10361      24866              124329  \n"
     ]
    }
   ],
   "source": [
    "num_cols = table.columns[3:]\n",
    "### getting the horizontal sums\n",
    "h_sum = table[num_cols].sum(axis=1)\n",
    "table['total per resource'] = h_sum\n",
    "print(table)"
   ]
  },
  {
   "cell_type": "code",
   "execution_count": 71,
   "metadata": {},
   "outputs": [
    {
     "name": "stdout",
     "output_type": "stream",
     "text": [
      "[nan, nan, 'total per camp ->', 0, 5500, 2749, 13746, 32987, 164946]\n",
      "    resourceID                      name        priorityLvl  unallocTotal  \\\n",
      "0          1.0                  Blankets                  2             0   \n",
      "1          2.0                  Clothing                  1             0   \n",
      "2          3.0                      Toys                  3             0   \n",
      "3          4.0                  Medicine                  1             0   \n",
      "4          5.0                  Vitamins                  2             0   \n",
      "5          6.0                      Food                  1             0   \n",
      "6          7.0                    Snacks                  3             0   \n",
      "7          8.0                Toiletries                  2             0   \n",
      "8          9.0                     Water                  1             0   \n",
      "9         10.0             Baby Supplies                  1             0   \n",
      "10        11.0  General Tools & Supplies                  3             0   \n",
      "11         NaN                       NaN  total per camp ->             0   \n",
      "\n",
      "    campID 9  campID 11  campID 26  campID 49  total per resource  \n",
      "0        838        419       2094       5025               25128  \n",
      "1        240        120        599       1438                7191  \n",
      "2        109         54        272        653                3264  \n",
      "3         15          8         38         92                 459  \n",
      "4         86         43        214        513                2568  \n",
      "5         13          6         32         76                 381  \n",
      "6         10          5         24         57                 288  \n",
      "7         11          6         28         67                 336  \n",
      "8         21         10         52        124                 621  \n",
      "9         13          6         32         76                 381  \n",
      "10      4144       2072      10361      24866              124329  \n",
      "11      5500       2749      13746      32987              164946  \n"
     ]
    }
   ],
   "source": [
    "v_sum = table[num_cols].sum().tolist()\n",
    "## need to create a row, thats [NA, NA, 'total per camp', [v,sum]]\n",
    "row_builder_sum = [np.nan, np.nan, 'total per camp ->'] + v_sum\n",
    "print(row_builder_sum)\n",
    "new_row_df = pd.DataFrame([row_builder_sum], columns=table.columns)\n",
    "# Append the new DataFrame to the original\n",
    "table = pd.concat([table, new_row_df], ignore_index=True)\n",
    "print(table)"
   ]
  },
  {
   "cell_type": "code",
   "execution_count": 72,
   "metadata": {},
   "outputs": [
    {
     "name": "stdout",
     "output_type": "stream",
     "text": [
      "[nan, nan, 'camp status ->', nan, 'open', 'open', 'open', 'open', nan]\n",
      "[nan, nan, 'refugeePop ->', nan, 2, 1, 5, 12, nan]\n"
     ]
    }
   ],
   "source": [
    "df = instance.camp_df\n",
    "\n",
    "condition = df['campID'].isin(camps_with_resources)\n",
    "status_vector = df.loc[condition, 'status'].tolist()\n",
    "status_vector = [np.nan, np.nan, 'camp status ->'] + [np.nan] + status_vector + [np.nan]\n",
    "print(status_vector)\n",
    "\n",
    "pop_vector = df.loc[condition, 'refugeePop'].tolist()\n",
    "pop_vector = [np.nan, np.nan, 'refugeePop ->'] + [np.nan] + pop_vector + [np.nan]\n",
    "print(pop_vector)"
   ]
  },
  {
   "cell_type": "code",
   "execution_count": 73,
   "metadata": {},
   "outputs": [
    {
     "name": "stdout",
     "output_type": "stream",
     "text": [
      "    resourceID                      name        priorityLvl  unallocTotal  \\\n",
      "0          1.0                  Blankets                  2           0.0   \n",
      "1          2.0                  Clothing                  1           0.0   \n",
      "2          3.0                      Toys                  3           0.0   \n",
      "3          4.0                  Medicine                  1           0.0   \n",
      "4          5.0                  Vitamins                  2           0.0   \n",
      "5          6.0                      Food                  1           0.0   \n",
      "6          7.0                    Snacks                  3           0.0   \n",
      "7          8.0                Toiletries                  2           0.0   \n",
      "8          9.0                     Water                  1           0.0   \n",
      "9         10.0             Baby Supplies                  1           0.0   \n",
      "10        11.0  General Tools & Supplies                  3           0.0   \n",
      "11         NaN                       NaN  total per camp ->           0.0   \n",
      "12         NaN                       NaN      refugeePop ->           NaN   \n",
      "13         NaN                       NaN     camp status ->           NaN   \n",
      "\n",
      "   campID 9 campID 11 campID 26 campID 49  total per resource  \n",
      "0       838       419      2094      5025             25128.0  \n",
      "1       240       120       599      1438              7191.0  \n",
      "2       109        54       272       653              3264.0  \n",
      "3        15         8        38        92               459.0  \n",
      "4        86        43       214       513              2568.0  \n",
      "5        13         6        32        76               381.0  \n",
      "6        10         5        24        57               288.0  \n",
      "7        11         6        28        67               336.0  \n",
      "8        21        10        52       124               621.0  \n",
      "9        13         6        32        76               381.0  \n",
      "10     4144      2072     10361     24866            124329.0  \n",
      "11     5500      2749     13746     32987            164946.0  \n",
      "12        2         1         5        12                 NaN  \n",
      "13     open      open      open      open                 NaN  \n"
     ]
    }
   ],
   "source": [
    "top_rows_df = pd.DataFrame([pop_vector, status_vector], columns=table.columns)\n",
    "# Append the new DataFrame to the original\n",
    "table = pd.concat([table, top_rows_df], ignore_index=True)\n",
    "print(table)"
   ]
  },
  {
   "cell_type": "code",
   "execution_count": 74,
   "metadata": {},
   "outputs": [
    {
     "name": "stdout",
     "output_type": "stream",
     "text": [
      "resourceID                     name       priorityLvl unallocTotal campID 9 campID 11 campID 26 campID 49 total per resource\n",
      "       1.0                 Blankets                 2          0.0      838       419      2094      5025            25128.0\n",
      "       2.0                 Clothing                 1          0.0      240       120       599      1438             7191.0\n",
      "       3.0                     Toys                 3          0.0      109        54       272       653             3264.0\n",
      "       4.0                 Medicine                 1          0.0       15         8        38        92              459.0\n",
      "       5.0                 Vitamins                 2          0.0       86        43       214       513             2568.0\n",
      "       6.0                     Food                 1          0.0       13         6        32        76              381.0\n",
      "       7.0                   Snacks                 3          0.0       10         5        24        57              288.0\n",
      "       8.0               Toiletries                 2          0.0       11         6        28        67              336.0\n",
      "       9.0                    Water                 1          0.0       21        10        52       124              621.0\n",
      "      10.0            Baby Supplies                 1          0.0       13         6        32        76              381.0\n",
      "      11.0 General Tools & Supplies                 3          0.0     4144      2072     10361     24866           124329.0\n",
      "                                    total per camp ->          0.0     5500      2749     13746     32987           164946.0\n",
      "                                        refugeePop ->                     2         1         5        12                   \n",
      "                                       camp status ->                  open      open      open      open                   \n"
     ]
    }
   ],
   "source": [
    "print(table.fillna('').to_string(index=False))"
   ]
  },
  {
   "cell_type": "code",
   "execution_count": 85,
   "metadata": {},
   "outputs": [
    {
     "name": "stdout",
     "output_type": "stream",
     "text": [
      "   resourceID      name     priorityLvl unallocTotal campID 9 campID 11  \\\n",
      "12                        refugeePop ->                     2         1   \n",
      "13                       camp status ->                  open      open   \n",
      "4         5.0  Vitamins               2          0.0       86        43   \n",
      "\n",
      "   campID 26 campID 49 total per resource  \n",
      "12         5        12                     \n",
      "13      open      open                     \n",
      "4        214       513             2568.0  \n"
     ]
    }
   ],
   "source": [
    "single_resource = pd.concat([table.tail(2),table[table['resourceID'] == 5]])\n",
    "print(single_resource.fillna(''))"
   ]
  },
  {
   "cell_type": "code",
   "execution_count": 76,
   "metadata": {},
   "outputs": [
    {
     "name": "stdout",
     "output_type": "stream",
     "text": [
      "A        B        C       \n",
      "1        5        9       \n",
      "\u001b[34m2        6        10      \u001b[0m\n",
      "3        7        11      \n",
      "\u001b[34m4        8        12      \u001b[0m\n"
     ]
    }
   ],
   "source": [
    "# Sample DataFrame\n",
    "df = pd.DataFrame({\n",
    "    'A': [1, 2, 3, 4],\n",
    "    'B': [5, 6, 7, 8],\n",
    "    'C': [9, 10, 11, 12]\n",
    "})\n",
    "\n",
    "# Function to print a row in blue\n",
    "def print_blue_row(row):\n",
    "    blue_start = \"\\033[34m\"  # ANSI code for blue text\n",
    "    blue_end = \"\\033[0m\"  # ANSI code to reset color\n",
    "    row_str = ' '.join(str(item).ljust(8) for item in row)  # Adjust spacing as needed\n",
    "    print(blue_start + row_str + blue_end)\n",
    "\n",
    "# Function to print the DataFrame with certain rows in blue\n",
    "def print_df_with_blue_rows(df, blue_rows):\n",
    "    # Print column headers\n",
    "    print(' '.join(col.ljust(8) for col in df.columns))\n",
    "    \n",
    "    # Iterate through DataFrame rows\n",
    "    for index, row in df.iterrows():\n",
    "        if index in blue_rows:\n",
    "            print_blue_row(row)\n",
    "        else:\n",
    "            print(' '.join(str(item).ljust(8) for item in row))\n",
    "\n",
    "# Specify the rows you want to print in blue (by index)\n",
    "blue_rows = [1, 3]  # For example, rows 1 and 3\n",
    "\n",
    "# Print the DataFrame\n",
    "print_df_with_blue_rows(df, blue_rows)\n"
   ]
  }
 ],
 "metadata": {
  "kernelspec": {
   "display_name": ".venv",
   "language": "python",
   "name": "python3"
  },
  "language_info": {
   "codemirror_mode": {
    "name": "ipython",
    "version": 3
   },
   "file_extension": ".py",
   "mimetype": "text/x-python",
   "name": "python",
   "nbconvert_exporter": "python",
   "pygments_lexer": "ipython3",
   "version": "3.9.6"
  },
  "orig_nbformat": 4
 },
 "nbformat": 4,
 "nbformat_minor": 2
}
