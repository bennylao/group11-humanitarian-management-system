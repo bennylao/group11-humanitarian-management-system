{
 "cells": [
  {
   "cell_type": "code",
   "execution_count": 5,
   "metadata": {},
   "outputs": [],
   "source": [
    "import pandas as pd\n",
    "import numpy as np\n",
    "from pathlib import Path\n",
    "from resourceReport import ResourceReport"
   ]
  },
  {
   "cell_type": "code",
   "execution_count": 6,
   "metadata": {},
   "outputs": [],
   "source": [
    "# Define the data as a list of lists. Each inner list represents a row in the DataFrame.\n",
    "data = [\n",
    "    [9, \"Water\", 52, None, 99, \"[2] UNASSIGN: camp -> inventory\"],\n",
    "    [10, \"Baby Supplies\", 55, 57.0, 93, \"[3] RE-ASSIGN: camp <-> camp\"]\n",
    "]\n",
    "\n",
    "# Define the column names.\n",
    "columns = [\"resourceID\", \"name\", \"origin_campID\", \"destination_campID\", \"moveUnits\", \"actionInfo\"]\n",
    "\n",
    "# Create the DataFrame.\n",
    "df = pd.DataFrame(data, columns=columns)"
   ]
  },
  {
   "cell_type": "code",
   "execution_count": 8,
   "metadata": {},
   "outputs": [
    {
     "name": "stdout",
     "output_type": "stream",
     "text": [
      "                                                  0  \\\n",
      "resourceID                                        9   \n",
      "name                                          Water   \n",
      "origin_campID                                    52   \n",
      "destination_campID                              NaN   \n",
      "moveUnits                                        99   \n",
      "actionInfo          [2] UNASSIGN: camp -> inventory   \n",
      "\n",
      "                                               1  \n",
      "resourceID                                    10  \n",
      "name                               Baby Supplies  \n",
      "origin_campID                                 55  \n",
      "destination_campID                          57.0  \n",
      "moveUnits                                     93  \n",
      "actionInfo          [3] RE-ASSIGN: camp <-> camp  \n"
     ]
    }
   ],
   "source": [
    "print(df.transpose())"
   ]
  }
 ],
 "metadata": {
  "kernelspec": {
   "display_name": ".venv",
   "language": "python",
   "name": "python3"
  },
  "language_info": {
   "codemirror_mode": {
    "name": "ipython",
    "version": 3
   },
   "file_extension": ".py",
   "mimetype": "text/x-python",
   "name": "python",
   "nbconvert_exporter": "python",
   "pygments_lexer": "ipython3",
   "version": "3.9.6"
  },
  "orig_nbformat": 4
 },
 "nbformat": 4,
 "nbformat_minor": 2
}
