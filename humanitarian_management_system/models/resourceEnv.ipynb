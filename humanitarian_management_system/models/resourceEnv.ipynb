{
 "cells": [
  {
   "cell_type": "code",
   "execution_count": 33,
   "metadata": {},
   "outputs": [],
   "source": [
    "from humanitarian_management_system.models.resourceAllocator import ResourceAllocator\n",
    "from humanitarian_management_system.models.resourceAdder import ResourceAdder\n",
    "from humanitarian_management_system.models.resourceReport import ResourceReport\n",
    "\n",
    "from pathlib import Path\n",
    "import pandas as pd"
   ]
  },
  {
   "cell_type": "code",
   "execution_count": 34,
   "metadata": {},
   "outputs": [
    {
     "name": "stdout",
     "output_type": "stream",
     "text": [
      "    campID  eventID countryID  refugeeCapacity healthRisk  volunteerPop  \\\n",
      "0        1        3        IN            10000       high             0   \n",
      "1        2        7        CN               15        low             0   \n",
      "2        3        7        CN                8       high             0   \n",
      "3        4        4        IN               20       high             0   \n",
      "4        5        3        IN               12        low             0   \n",
      "5        6        7        CN               13        low             2   \n",
      "6        7        4        IN               15       high             0   \n",
      "7        8        8        EG               15       high             1   \n",
      "8        9        8        EG                7       high             1   \n",
      "9       11        4        IN               10       high             0   \n",
      "10      12        3        IN              111        low             0   \n",
      "11      13        5        IN               12       high             0   \n",
      "12      14        3        IN            10000       high             0   \n",
      "\n",
      "    refugeePop  avgCriticalLvl  status  \n",
      "0            0            1.00    open  \n",
      "1            0            1.00  closed  \n",
      "2            5            2.60    open  \n",
      "3            0            1.00    open  \n",
      "4            4            2.75    open  \n",
      "5            2            1.50  closed  \n",
      "6            0            1.00    open  \n",
      "7            0            1.00    open  \n",
      "8            2            3.00    open  \n",
      "9            1            2.00    open  \n",
      "10           0            1.00    open  \n",
      "11           0            1.00  closed  \n",
      "12           0            1.00    open  \n"
     ]
    }
   ],
   "source": [
    "df = pd.read_csv(\"../data/camp.csv\")\n",
    "print(df)"
   ]
  },
  {
   "cell_type": "code",
   "execution_count": 35,
   "metadata": {},
   "outputs": [
    {
     "name": "stdout",
     "output_type": "stream",
     "text": [
      "2     3\n",
      "4     5\n",
      "8     9\n",
      "9    11\n",
      "Name: campID, dtype: int64\n"
     ]
    }
   ],
   "source": [
    "condition = (df['refugeePop']>0) & (df['status']=='open')\n",
    "valid_open = df.loc[condition, ['campID', 'refugeePop']]\n",
    "print(valid_open['campID'])"
   ]
  },
  {
   "cell_type": "code",
   "execution_count": 36,
   "metadata": {},
   "outputs": [],
   "source": [
    "resource_stock_csv_path = \"../data/resourceStock.csv\"\n",
    "resource_allocation_csv_path = \"../data/resourceAllocation.csv\"\n",
    "resource_unallocated_stock_csv_path = \"../data/resourceUnallocatedStock.csv\"\n",
    "\n",
    "totalResources_df = pd.read_csv(resource_stock_csv_path)\n",
    "resourceAllocs_df = pd.read_csv(resource_allocation_csv_path)\n",
    "unallocResources_df = pd.read_csv(resource_unallocated_stock_csv_path)\n",
    "joined_df = pd.merge(totalResources_df, resourceAllocs_df, on='resourceID', how='inner') # does not factor in the camps that dont have allocation but have non zero refugees \n"
   ]
  },
  {
   "cell_type": "code",
   "execution_count": 37,
   "metadata": {},
   "outputs": [
    {
     "name": "stdout",
     "output_type": "stream",
     "text": [
      "    resourceID                      name  total  priorityLvl  campID    qty\n",
      "0            1                  Blankets  10084            2       3   3601\n",
      "1            1                  Blankets  10084            2       5   2881\n",
      "2            1                  Blankets  10084            2       6   1441\n",
      "3            1                  Blankets  10084            2       9   1441\n",
      "4            1                  Blankets  10084            2      11    720\n",
      "5            2                  Clothing   2850            1       3   1018\n",
      "6            2                  Clothing   2850            1       5    814\n",
      "7            2                  Clothing   2850            1       6    407\n",
      "8            2                  Clothing   2850            1       9    407\n",
      "9            2                  Clothing   2850            1      11    204\n",
      "10           3                      Toys     65            3       3     23\n",
      "11           3                      Toys     65            3       5     19\n",
      "12           3                      Toys     65            3       6      9\n",
      "13           3                      Toys     65            3       9      9\n",
      "14           3                      Toys     65            3      11      5\n",
      "15           4                  Medicine    102            1       3     36\n",
      "16           4                  Medicine    102            1       5     29\n",
      "17           4                  Medicine    102            1       6     15\n",
      "18           4                  Medicine    102            1       9     15\n",
      "19           4                  Medicine    102            1      11      7\n",
      "20           5                  Vitamins     54            2       3      0\n",
      "21           5                  Vitamins     54            2       5     24\n",
      "22           5                  Vitamins     54            2       6     12\n",
      "23           5                  Vitamins     54            2       9     12\n",
      "24           5                  Vitamins     54            2      11      6\n",
      "25           6                      Food    102            1       3     36\n",
      "26           6                      Food    102            1       5     29\n",
      "27           6                      Food    102            1       6     15\n",
      "28           6                      Food    102            1       9     15\n",
      "29           6                      Food    102            1      11      7\n",
      "30           7                    Snacks     65            3       3     23\n",
      "31           7                    Snacks     65            3       5     19\n",
      "32           7                    Snacks     65            3       6      9\n",
      "33           7                    Snacks     65            3       9      9\n",
      "34           7                    Snacks     65            3      11      5\n",
      "35           8                Toiletries     84            2       3     30\n",
      "36           8                Toiletries     84            2       5     24\n",
      "37           8                Toiletries     84            2       6     12\n",
      "38           8                Toiletries     84            2       9     18\n",
      "39           8                Toiletries     84            2      11      0\n",
      "40           9                     Water    112            1       3     40\n",
      "41           9                     Water    112            1       5     32\n",
      "42           9                     Water    112            1       6     16\n",
      "43           9                     Water    112            1       9     16\n",
      "44           9                     Water    112            1      11      8\n",
      "45          10             Baby Supplies    102            1       3     36\n",
      "46          10             Baby Supplies    102            1       5     29\n",
      "47          10             Baby Supplies    102            1       6     15\n",
      "48          10             Baby Supplies    102            1       9     15\n",
      "49          10             Baby Supplies    102            1      11      7\n",
      "50          11  General Tools & Supplies  50096            3       3  17891\n",
      "51          11  General Tools & Supplies  50096            3       5  14313\n",
      "52          11  General Tools & Supplies  50096            3       6   7157\n",
      "53          11  General Tools & Supplies  50096            3       9   7157\n",
      "54          11  General Tools & Supplies  50096            3      11   3578\n"
     ]
    }
   ],
   "source": [
    "print(joined_df)\n",
    "camps_in_resource_map = joined_df['campID'].unique()"
   ]
  },
  {
   "cell_type": "code",
   "execution_count": 38,
   "metadata": {},
   "outputs": [],
   "source": [
    "resource_camp = joined_df.pivot_table(index=['resourceID', 'name', 'priorityLvl'], columns='campID', values='qty', aggfunc='sum').sort_index(level=0)\n",
    "\n",
    "resource_camp.reset_index(inplace=True)\n",
    "\n"
   ]
  },
  {
   "cell_type": "code",
   "execution_count": 39,
   "metadata": {},
   "outputs": [],
   "source": [
    "resource_c_id = resource_camp[['resourceID',3]]\n",
    "\n",
    "        # need to recalculate all 3 sheets \n",
    "\n",
    "        # first calculate...\n",
    "        # unallocated stock - add the above to each resource. do mapping to be on safe side \n",
    "inventory = unallocResources_df ## will always have more or equal \n",
    "joined_df = pd.merge(inventory, resource_c_id, on='resourceID', how='outer').fillna(0) #join and then add... \n",
    "\n",
    "\n",
    "joined_df['unallocTotal'] = joined_df[3] + joined_df['unallocTotal']\n",
    "joined_df.drop(3, axis=1, inplace=True)"
   ]
  },
  {
   "cell_type": "code",
   "execution_count": 40,
   "metadata": {},
   "outputs": [
    {
     "name": "stdout",
     "output_type": "stream",
     "text": [
      "    resourceID                      name  unallocTotal  priorityLvl\n",
      "0            1                  Blankets          3601            2\n",
      "1            2                  Clothing          1018            1\n",
      "2            3                      Toys            23            3\n",
      "3            4                  Medicine            36            1\n",
      "4            5                  Vitamins            30            2\n",
      "5            6                      Food            36            1\n",
      "6            7                    Snacks            23            3\n",
      "7            8                Toiletries            30            2\n",
      "8            9                     Water            40            1\n",
      "9           10             Baby Supplies            36            1\n",
      "10          11  General Tools & Supplies         17891            3\n"
     ]
    }
   ],
   "source": [
    "print(joined_df)"
   ]
  },
  {
   "cell_type": "code",
   "execution_count": 57,
   "metadata": {},
   "outputs": [],
   "source": [
    "map = resourceAllocs_df\n",
    "remove = map['campID'] == 3\n",
    "new_map = map[~remove]"
   ]
  },
  {
   "cell_type": "code",
   "execution_count": 58,
   "metadata": {},
   "outputs": [
    {
     "name": "stdout",
     "output_type": "stream",
     "text": [
      "    resourceID                      name  total  priorityLvl\n",
      "0            1                  Blankets   6483            2\n",
      "1            2                  Clothing   1832            1\n",
      "2            3                      Toys     42            3\n",
      "3            4                  Medicine     66            1\n",
      "4            5                  Vitamins     54            2\n",
      "5            6                      Food     66            1\n",
      "6            7                    Snacks     42            3\n",
      "7            8                Toiletries     54            2\n",
      "8            9                     Water     72            1\n",
      "9           10             Baby Supplies     66            1\n",
      "10          11  General Tools & Supplies  32205            3\n"
     ]
    }
   ],
   "source": [
    "assigned = totalResources_df\n",
    "joined_df = pd.merge(assigned.drop(['total'], axis=1, inplace=False), new_map, on='resourceID', how='inner')\n",
    "resource_sum = joined_df.groupby('resourceID').agg({\n",
    "                'name': 'first',  # Keeps the first name for each group\n",
    "                'qty': 'sum',  # Sums the qty for each camp >> we ignore the 'total' column in stockManualResources\n",
    "                'priorityLvl': 'first',  \n",
    "            }).reset_index()\n",
    "resource_sum.rename(columns={'qty': 'total'}, inplace=True)\n",
    "\n",
    "print(resource_sum)"
   ]
  },
  {
   "cell_type": "code",
   "execution_count": 60,
   "metadata": {},
   "outputs": [
    {
     "name": "stdout",
     "output_type": "stream",
     "text": [
      "    resourceID                      name  total  priorityLvl  unallocTotal\n",
      "0            1                  Blankets  10084            2             0\n",
      "1            2                  Clothing   2850            1             0\n",
      "2            3                      Toys     65            3             0\n",
      "3            4                  Medicine    102            1             0\n",
      "4            5                  Vitamins     54            2            30\n",
      "5            6                      Food    102            1             0\n",
      "6            7                    Snacks     65            3             0\n",
      "7            8                Toiletries     84            2             0\n",
      "8            9                     Water    112            1             0\n",
      "9           10             Baby Supplies    102            1             0\n",
      "10          11  General Tools & Supplies  50096            3             0\n"
     ]
    }
   ],
   "source": [
    "report = pd.merge(totalResources_df, unallocResources_df[['resourceID', 'unallocTotal']], on='resourceID', how='outer').fillna(0)\n",
    "print(report)"
   ]
  },
  {
   "cell_type": "code",
   "execution_count": 64,
   "metadata": {},
   "outputs": [
    {
     "name": "stdout",
     "output_type": "stream",
     "text": [
      "    resourceID  campID  qty\n",
      "0            1     100   50\n",
      "1            2     100   50\n",
      "2            3     100   50\n",
      "3            4     100   50\n",
      "4            5     100   50\n",
      "5            6     100   50\n",
      "6            7     100   50\n",
      "7            8     100   50\n",
      "8            9     100   50\n",
      "9           10     100   50\n",
      "10          11     100   50\n"
     ]
    }
   ],
   "source": [
    "df = pd.DataFrame(map['resourceID'].unique())\n",
    "df.rename(columns={0: 'resourceID'}, inplace=True)\n",
    "df['campID'] = 100\n",
    "df['qty'] = 50\n",
    "print(df)"
   ]
  }
 ],
 "metadata": {
  "kernelspec": {
   "display_name": ".venv",
   "language": "python",
   "name": "python3"
  },
  "language_info": {
   "codemirror_mode": {
    "name": "ipython",
    "version": 3
   },
   "file_extension": ".py",
   "mimetype": "text/x-python",
   "name": "python",
   "nbconvert_exporter": "python",
   "pygments_lexer": "ipython3",
   "version": "3.9.6"
  },
  "orig_nbformat": 4
 },
 "nbformat": 4,
 "nbformat_minor": 2
}
