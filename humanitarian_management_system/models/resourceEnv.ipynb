{
 "cells": [
  {
   "cell_type": "code",
   "execution_count": 1,
   "metadata": {},
   "outputs": [],
   "source": [
    "from humanitarian_management_system.models.resourceAllocator import ResourceAllocator\n",
    "from humanitarian_management_system.models.resourceAdder import ResourceAdder\n",
    "from humanitarian_management_system.models.resourceReport import ResourceReport\n",
    "\n",
    "from pathlib import Path\n",
    "import pandas as pd"
   ]
  },
  {
   "cell_type": "code",
   "execution_count": 3,
   "metadata": {},
   "outputs": [
    {
     "name": "stdout",
     "output_type": "stream",
     "text": [
      "    resourceID                      name    qty  priorityLvl\n",
      "0            1                  Blankets  10084            2\n",
      "1            2                  Clothing   2101            1\n",
      "2            3                      Toys     40            3\n",
      "3            4                  Medicine    102            1\n",
      "4            5                  Vitamins     83            2\n",
      "5            6                      Food    102            1\n",
      "6            7                    Snacks     65            3\n",
      "7            8                Toiletries     83            2\n",
      "8            9                     Water    113            1\n",
      "9           10             Baby Supplies    102            1\n",
      "10          11  General Tools & Supplies     96            3\n",
      "    resourceID  campID   qty\n",
      "0            1       3    78\n",
      "1            2       3   808\n",
      "2            3       3     0\n",
      "3            4       3    39\n",
      "4            5       3    32\n",
      "5            6       3    39\n",
      "6            7       3    25\n",
      "7            8       3    32\n",
      "8            9       3    43\n",
      "9           10       3     0\n",
      "10          11       3    37\n",
      "11           1       5  6903\n",
      "12           2       5     6\n",
      "13           3       5    20\n",
      "14           4       5    31\n",
      "15           5       5    26\n",
      "16           6       5    31\n",
      "17           7       5    20\n",
      "18           8       5    26\n",
      "19           9       5    35\n",
      "20          10       5    70\n",
      "21          11       5    30\n",
      "22           1       6  1551\n",
      "23           2       6   963\n",
      "24           3       6    10\n",
      "25           4       6    16\n",
      "26           5       6    13\n",
      "27           6       6    16\n",
      "28           7       6    10\n",
      "29           8       6    13\n",
      "30           9       6    17\n",
      "31          10       6    16\n",
      "32          11       6    15\n",
      "33           1       9   776\n",
      "34           2       9   162\n",
      "35           3       9     5\n",
      "36           4       9     8\n",
      "37           5       9     6\n",
      "38           6       9     8\n",
      "39           7       9     5\n",
      "40           8       9     6\n",
      "41           9       9     9\n",
      "42          10       9     8\n",
      "43          11       9     7\n",
      "44           1      11   776\n",
      "45           2      11   162\n",
      "46           3      11     5\n",
      "47           4      11     8\n",
      "48           5      11     6\n",
      "49           6      11     8\n",
      "50           7      11     5\n",
      "51           8      11     6\n",
      "52           9      11     9\n",
      "53          10      11     8\n",
      "54          11      11     7\n"
     ]
    }
   ],
   "source": [
    "resource_stock_csv_path = \"../data/resourceStock.csv\"\n",
    "resource_allocation_csv_path = \"../data/resourceAllocation.csv\"\n",
    "resource_unallocated_stock_csv_path = \"../data/resourceUnallocatedStock.csv\"\n",
    "\n",
    "totalResources_df = pd.read_csv(resource_stock_csv_path)\n",
    "resourceCampMap = pd.read_csv(resource_allocation_csv_path)\n",
    "unallocResources_df = pd.read_csv(resource_unallocated_stock_csv_path)\n",
    "\n",
    "stockManualResources = totalResources_df ### the total numbers in this are out of date and we need to update them using resourceCampMap\n",
    "\n",
    "print(stockManualResources)\n",
    "print(resourceCampMap)"
   ]
  },
  {
   "cell_type": "code",
   "execution_count": 35,
   "metadata": {},
   "outputs": [
    {
     "ename": "KeyError",
     "evalue": "\"['total'] not found in axis\"",
     "output_type": "error",
     "traceback": [
      "\u001b[0;31m---------------------------------------------------------------------------\u001b[0m",
      "\u001b[0;31mKeyError\u001b[0m                                  Traceback (most recent call last)",
      "Cell \u001b[0;32mIn[35], line 1\u001b[0m\n\u001b[0;32m----> 1\u001b[0m joined_df \u001b[39m=\u001b[39m pd\u001b[39m.\u001b[39mmerge(stockManualResources\u001b[39m.\u001b[39;49mdrop([\u001b[39m'\u001b[39;49m\u001b[39mtotal\u001b[39;49m\u001b[39m'\u001b[39;49m], axis\u001b[39m=\u001b[39;49m\u001b[39m1\u001b[39;49m, inplace\u001b[39m=\u001b[39;49m\u001b[39mFalse\u001b[39;49;00m), resourceCampMap, on\u001b[39m=\u001b[39m\u001b[39m'\u001b[39m\u001b[39mresourceID\u001b[39m\u001b[39m'\u001b[39m, how\u001b[39m=\u001b[39m\u001b[39m'\u001b[39m\u001b[39minner\u001b[39m\u001b[39m'\u001b[39m)\n\u001b[1;32m      2\u001b[0m \u001b[39mprint\u001b[39m(joined_df)\n\u001b[1;32m      3\u001b[0m resource_sum \u001b[39m=\u001b[39m joined_df\u001b[39m.\u001b[39mgroupby(\u001b[39m'\u001b[39m\u001b[39mresourceID\u001b[39m\u001b[39m'\u001b[39m)\u001b[39m.\u001b[39magg({\n\u001b[1;32m      4\u001b[0m                 \u001b[39m'\u001b[39m\u001b[39mname\u001b[39m\u001b[39m'\u001b[39m: \u001b[39m'\u001b[39m\u001b[39mfirst\u001b[39m\u001b[39m'\u001b[39m,  \u001b[39m# Keeps the first name for each group\u001b[39;00m\n\u001b[1;32m      5\u001b[0m                 \u001b[39m'\u001b[39m\u001b[39mqty\u001b[39m\u001b[39m'\u001b[39m: \u001b[39m'\u001b[39m\u001b[39msum\u001b[39m\u001b[39m'\u001b[39m,  \u001b[39m# Sums the qty for each camp >> we ignore the 'total' column in stockManualResources\u001b[39;00m\n\u001b[1;32m      6\u001b[0m                 \u001b[39m'\u001b[39m\u001b[39mpriorityLvl\u001b[39m\u001b[39m'\u001b[39m: \u001b[39m'\u001b[39m\u001b[39mfirst\u001b[39m\u001b[39m'\u001b[39m,  \n\u001b[1;32m      7\u001b[0m             })\u001b[39m.\u001b[39mreset_index()\n",
      "File \u001b[0;32m~/humanitarian_management_system/.venv/lib/python3.9/site-packages/pandas/core/frame.py:5344\u001b[0m, in \u001b[0;36mDataFrame.drop\u001b[0;34m(self, labels, axis, index, columns, level, inplace, errors)\u001b[0m\n\u001b[1;32m   5196\u001b[0m \u001b[39mdef\u001b[39;00m \u001b[39mdrop\u001b[39m(\n\u001b[1;32m   5197\u001b[0m     \u001b[39mself\u001b[39m,\n\u001b[1;32m   5198\u001b[0m     labels: IndexLabel \u001b[39m|\u001b[39m \u001b[39mNone\u001b[39;00m \u001b[39m=\u001b[39m \u001b[39mNone\u001b[39;00m,\n\u001b[0;32m   (...)\u001b[0m\n\u001b[1;32m   5205\u001b[0m     errors: IgnoreRaise \u001b[39m=\u001b[39m \u001b[39m\"\u001b[39m\u001b[39mraise\u001b[39m\u001b[39m\"\u001b[39m,\n\u001b[1;32m   5206\u001b[0m ) \u001b[39m-\u001b[39m\u001b[39m>\u001b[39m DataFrame \u001b[39m|\u001b[39m \u001b[39mNone\u001b[39;00m:\n\u001b[1;32m   5207\u001b[0m \u001b[39m    \u001b[39m\u001b[39m\"\"\"\u001b[39;00m\n\u001b[1;32m   5208\u001b[0m \u001b[39m    Drop specified labels from rows or columns.\u001b[39;00m\n\u001b[1;32m   5209\u001b[0m \n\u001b[0;32m   (...)\u001b[0m\n\u001b[1;32m   5342\u001b[0m \u001b[39m            weight  1.0     0.8\u001b[39;00m\n\u001b[1;32m   5343\u001b[0m \u001b[39m    \"\"\"\u001b[39;00m\n\u001b[0;32m-> 5344\u001b[0m     \u001b[39mreturn\u001b[39;00m \u001b[39msuper\u001b[39;49m()\u001b[39m.\u001b[39;49mdrop(\n\u001b[1;32m   5345\u001b[0m         labels\u001b[39m=\u001b[39;49mlabels,\n\u001b[1;32m   5346\u001b[0m         axis\u001b[39m=\u001b[39;49maxis,\n\u001b[1;32m   5347\u001b[0m         index\u001b[39m=\u001b[39;49mindex,\n\u001b[1;32m   5348\u001b[0m         columns\u001b[39m=\u001b[39;49mcolumns,\n\u001b[1;32m   5349\u001b[0m         level\u001b[39m=\u001b[39;49mlevel,\n\u001b[1;32m   5350\u001b[0m         inplace\u001b[39m=\u001b[39;49minplace,\n\u001b[1;32m   5351\u001b[0m         errors\u001b[39m=\u001b[39;49merrors,\n\u001b[1;32m   5352\u001b[0m     )\n",
      "File \u001b[0;32m~/humanitarian_management_system/.venv/lib/python3.9/site-packages/pandas/core/generic.py:4711\u001b[0m, in \u001b[0;36mNDFrame.drop\u001b[0;34m(self, labels, axis, index, columns, level, inplace, errors)\u001b[0m\n\u001b[1;32m   4709\u001b[0m \u001b[39mfor\u001b[39;00m axis, labels \u001b[39min\u001b[39;00m axes\u001b[39m.\u001b[39mitems():\n\u001b[1;32m   4710\u001b[0m     \u001b[39mif\u001b[39;00m labels \u001b[39mis\u001b[39;00m \u001b[39mnot\u001b[39;00m \u001b[39mNone\u001b[39;00m:\n\u001b[0;32m-> 4711\u001b[0m         obj \u001b[39m=\u001b[39m obj\u001b[39m.\u001b[39;49m_drop_axis(labels, axis, level\u001b[39m=\u001b[39;49mlevel, errors\u001b[39m=\u001b[39;49merrors)\n\u001b[1;32m   4713\u001b[0m \u001b[39mif\u001b[39;00m inplace:\n\u001b[1;32m   4714\u001b[0m     \u001b[39mself\u001b[39m\u001b[39m.\u001b[39m_update_inplace(obj)\n",
      "File \u001b[0;32m~/humanitarian_management_system/.venv/lib/python3.9/site-packages/pandas/core/generic.py:4753\u001b[0m, in \u001b[0;36mNDFrame._drop_axis\u001b[0;34m(self, labels, axis, level, errors, only_slice)\u001b[0m\n\u001b[1;32m   4751\u001b[0m         new_axis \u001b[39m=\u001b[39m axis\u001b[39m.\u001b[39mdrop(labels, level\u001b[39m=\u001b[39mlevel, errors\u001b[39m=\u001b[39merrors)\n\u001b[1;32m   4752\u001b[0m     \u001b[39melse\u001b[39;00m:\n\u001b[0;32m-> 4753\u001b[0m         new_axis \u001b[39m=\u001b[39m axis\u001b[39m.\u001b[39;49mdrop(labels, errors\u001b[39m=\u001b[39;49merrors)\n\u001b[1;32m   4754\u001b[0m     indexer \u001b[39m=\u001b[39m axis\u001b[39m.\u001b[39mget_indexer(new_axis)\n\u001b[1;32m   4756\u001b[0m \u001b[39m# Case for non-unique axis\u001b[39;00m\n\u001b[1;32m   4757\u001b[0m \u001b[39melse\u001b[39;00m:\n",
      "File \u001b[0;32m~/humanitarian_management_system/.venv/lib/python3.9/site-packages/pandas/core/indexes/base.py:6992\u001b[0m, in \u001b[0;36mIndex.drop\u001b[0;34m(self, labels, errors)\u001b[0m\n\u001b[1;32m   6990\u001b[0m \u001b[39mif\u001b[39;00m mask\u001b[39m.\u001b[39many():\n\u001b[1;32m   6991\u001b[0m     \u001b[39mif\u001b[39;00m errors \u001b[39m!=\u001b[39m \u001b[39m\"\u001b[39m\u001b[39mignore\u001b[39m\u001b[39m\"\u001b[39m:\n\u001b[0;32m-> 6992\u001b[0m         \u001b[39mraise\u001b[39;00m \u001b[39mKeyError\u001b[39;00m(\u001b[39mf\u001b[39m\u001b[39m\"\u001b[39m\u001b[39m{\u001b[39;00mlabels[mask]\u001b[39m.\u001b[39mtolist()\u001b[39m}\u001b[39;00m\u001b[39m not found in axis\u001b[39m\u001b[39m\"\u001b[39m)\n\u001b[1;32m   6993\u001b[0m     indexer \u001b[39m=\u001b[39m indexer[\u001b[39m~\u001b[39mmask]\n\u001b[1;32m   6994\u001b[0m \u001b[39mreturn\u001b[39;00m \u001b[39mself\u001b[39m\u001b[39m.\u001b[39mdelete(indexer)\n",
      "\u001b[0;31mKeyError\u001b[0m: \"['total'] not found in axis\""
     ]
    }
   ],
   "source": [
    "joined_df = pd.merge(stockManualResources, resourceCampMap, on='resourceID', how='inner')\n",
    "print(joined_df)\n",
    "resource_sum = joined_df.groupby('resourceID').agg({\n",
    "                'name': 'first',  # Keeps the first name for each group\n",
    "                'qty': 'sum',  # Sums the qty for each camp >> we ignore the 'total' column in stockManualResources\n",
    "                'priorityLvl': 'first',  \n",
    "            }).reset_index()"
   ]
  },
  {
   "cell_type": "code",
   "execution_count": 21,
   "metadata": {},
   "outputs": [
    {
     "name": "stdout",
     "output_type": "stream",
     "text": [
      "campID                                            3     5     6    9    11\n",
      "resourceID name                     priorityLvl                           \n",
      "1          Blankets                 2             78  6903  1551  776  776\n",
      "2          Clothing                 1            808     6   963  162  162\n",
      "3          Toys                     3             25    20    10    5    5\n",
      "4          Medicine                 1             39    31    16    8    8\n",
      "5          Vitamins                 2             32    26    13    6    6\n",
      "6          Food                     1             39    31    16    8    8\n",
      "7          Snacks                   3             25    20    10    5    5\n",
      "8          Toiletries               2             32    26    13    6    6\n",
      "9          Water                    1             43    35    17    9    9\n",
      "10         Baby Supplies            1             39    31    16    8    8\n",
      "11         General Tools & Supplies 3             37    30    15    7    7\n",
      "    resourceID                      name  unallocTotal  priorityLvl    3  \\\n",
      "0            1                  Blankets             0            2   78   \n",
      "1            2                  Clothing             0            1  808   \n",
      "2            3                      Toys            25            3   25   \n",
      "3            4                  Medicine             0            1   39   \n",
      "4            5                  Vitamins             0            2   32   \n",
      "5            6                      Food             0            1   39   \n",
      "6            7                    Snacks             0            3   25   \n",
      "7            8                Toiletries             0            2   32   \n",
      "8            9                     Water             0            1   43   \n",
      "9           10             Baby Supplies             0            1   39   \n",
      "10          11  General Tools & Supplies             0            3   37   \n",
      "\n",
      "       5     6    9   11  \n",
      "0   6903  1551  776  776  \n",
      "1      6   963  162  162  \n",
      "2     20    10    5    5  \n",
      "3     31    16    8    8  \n",
      "4     26    13    6    6  \n",
      "5     31    16    8    8  \n",
      "6     20    10    5    5  \n",
      "7     26    13    6    6  \n",
      "8     35    17    9    9  \n",
      "9     31    16    8    8  \n",
      "10    30    15    7    7  \n"
     ]
    }
   ],
   "source": [
    "report_instance = ResourceReport()\n",
    "resource_camp = report_instance.resource_report_camp()\n",
    "print(resource_camp)\n",
    "\n",
    "joined_df_unalloc_camp = pd.merge(unallocResources_df, resource_camp, on='resourceID', how='inner')\n",
    "print(joined_df_unalloc_camp)\n",
    "\n",
    "\n"
   ]
  },
  {
   "cell_type": "code",
   "execution_count": 18,
   "metadata": {},
   "outputs": [
    {
     "name": "stdout",
     "output_type": "stream",
     "text": [
      "    resourceID                      name  unallocTotal  priorityLvl    3  \\\n",
      "0            1                  Blankets             2            0   78   \n",
      "1            2                  Clothing             1            0  808   \n",
      "2            3                      Toys             3           25   25   \n",
      "3            4                  Medicine             1            0   39   \n",
      "4            5                  Vitamins             2            0   32   \n",
      "5            6                      Food             1            0   39   \n",
      "6            7                    Snacks             3            0   25   \n",
      "7            8                Toiletries             2            0   32   \n",
      "8            9                     Water             1            0   43   \n",
      "9           10             Baby Supplies             1            0   39   \n",
      "10          11  General Tools & Supplies             3            0   37   \n",
      "\n",
      "       5     6    9   11  \n",
      "0   6903  1551  776  776  \n",
      "1      6   963  162  162  \n",
      "2     20    10    5    5  \n",
      "3     31    16    8    8  \n",
      "4     26    13    6    6  \n",
      "5     31    16    8    8  \n",
      "6     20    10    5    5  \n",
      "7     26    13    6    6  \n",
      "8     35    17    9    9  \n",
      "9     31    16    8    8  \n",
      "10    30    15    7    7  \n"
     ]
    }
   ],
   "source": [
    "temp = joined_df_unalloc_camp['unallocTotal'].copy()\n",
    "joined_df_unalloc_camp['unallocTotal'],  joined_df_unalloc_camp['priorityLvl'] = joined_df_unalloc_camp['priorityLvl'], temp\n",
    "print(joined_df_unalloc_camp)"
   ]
  },
  {
   "cell_type": "code",
   "execution_count": 19,
   "metadata": {},
   "outputs": [
    {
     "name": "stdout",
     "output_type": "stream",
     "text": [
      "    resourceID                      name  priorityLvl  unallocTotal    3  \\\n",
      "0            1                  Blankets            2             0   78   \n",
      "1            2                  Clothing            1             0  808   \n",
      "2            3                      Toys            3            25   25   \n",
      "3            4                  Medicine            1             0   39   \n",
      "4            5                  Vitamins            2             0   32   \n",
      "5            6                      Food            1             0   39   \n",
      "6            7                    Snacks            3             0   25   \n",
      "7            8                Toiletries            2             0   32   \n",
      "8            9                     Water            1             0   43   \n",
      "9           10             Baby Supplies            1             0   39   \n",
      "10          11  General Tools & Supplies            3             0   37   \n",
      "\n",
      "       5     6    9   11  \n",
      "0   6903  1551  776  776  \n",
      "1      6   963  162  162  \n",
      "2     20    10    5    5  \n",
      "3     31    16    8    8  \n",
      "4     26    13    6    6  \n",
      "5     31    16    8    8  \n",
      "6     20    10    5    5  \n",
      "7     26    13    6    6  \n",
      "8     35    17    9    9  \n",
      "9     31    16    8    8  \n",
      "10    30    15    7    7  \n"
     ]
    }
   ],
   "source": [
    "joined_df_unalloc_camp.rename(columns={'unallocTotal': 'priorityLvl', 'priorityLvl': 'unallocTotal'}, inplace=True)\n",
    "print(joined_df_unalloc_camp)"
   ]
  },
  {
   "cell_type": "code",
   "execution_count": 32,
   "metadata": {},
   "outputs": [
    {
     "name": "stdout",
     "output_type": "stream",
     "text": [
      "    resourceID                      name  priorityLvl  unallocTotal    3  \\\n",
      "0            1                  Blankets            0             2   78   \n",
      "1            2                  Clothing            0             1  808   \n",
      "2            3                      Toys            0             3   25   \n",
      "3            4                  Medicine            0             1   39   \n",
      "4            5                  Vitamins            0             2   32   \n",
      "5            6                      Food            0             1   39   \n",
      "6            7                    Snacks            0             3   25   \n",
      "7            8                Toiletries            0             2   32   \n",
      "8            9                     Water            0             1   43   \n",
      "9           10             Baby Supplies            0             1   39   \n",
      "10          11  General Tools & Supplies            0             3   37   \n",
      "\n",
      "       5     6    9   11  \n",
      "0   6903  1551  776  776  \n",
      "1      6   963  162  162  \n",
      "2     20    10    5    5  \n",
      "3     31    16    8    8  \n",
      "4     26    13    6    6  \n",
      "5     31    16    8    8  \n",
      "6     20    10    5    5  \n",
      "7     26    13    6    6  \n",
      "8     35    17    9    9  \n",
      "9     31    16    8    8  \n",
      "10    30    15    7    7  \n"
     ]
    }
   ],
   "source": [
    "report_instance = ResourceReport()\n",
    "resource_camp = report_instance.resource_report_camp_vs_unallocated()\n",
    "print(resource_camp)\n",
    "\n",
    "resource_camp = joined_df.pivot_table(index=['resourceID', 'name', 'priorityLvl'], columns='campID', values='qty', aggfunc='sum').sort_index(level=0)\n",
    "joined_df_unalloc_camp = pd.merge(unallocResources_df, resource_camp, on='resourceID', how='inner')\n",
    "#print(joined_df_unalloc_camp)"
   ]
  }
 ],
 "metadata": {
  "kernelspec": {
   "display_name": ".venv",
   "language": "python",
   "name": "python3"
  },
  "language_info": {
   "codemirror_mode": {
    "name": "ipython",
    "version": 3
   },
   "file_extension": ".py",
   "mimetype": "text/x-python",
   "name": "python",
   "nbconvert_exporter": "python",
   "pygments_lexer": "ipython3",
   "version": "3.9.6"
  },
  "orig_nbformat": 4
 },
 "nbformat": 4,
 "nbformat_minor": 2
}
