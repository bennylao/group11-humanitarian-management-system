{
 "cells": [
  {
   "cell_type": "code",
   "execution_count": 18,
   "metadata": {},
   "outputs": [],
   "source": [
    "from humanitarian_management_system.models.resourceAllocator import ResourceAllocator\n",
    "from humanitarian_management_system.models.resourceAdder import ResourceAdder\n",
    "from humanitarian_management_system.models.resourceReport import ResourceReport\n",
    "\n",
    "from pathlib import Path\n",
    "import pandas as pd"
   ]
  },
  {
   "cell_type": "code",
   "execution_count": 51,
   "metadata": {},
   "outputs": [
    {
     "name": "stdout",
     "output_type": "stream",
     "text": [
      "    campID  eventID countryID  refugeeCapacity healthRisk  volunteerPop  \\\n",
      "0        1        3        IN            10000       high             0   \n",
      "1        2        7        CN               15        low             0   \n",
      "2        3        7        CN                8       high             0   \n",
      "3        4        4        IN               20       high             0   \n",
      "4        5        3        IN               12        low             0   \n",
      "5        6        7        CN               13        low             2   \n",
      "6        7        4        IN               15       high             0   \n",
      "7        8        8        EG               15       high             1   \n",
      "8        9        8        EG                7       high             1   \n",
      "9       11        4        IN               10       high             0   \n",
      "10      12        3        IN              111        low             0   \n",
      "11      13        5        IN               12       high             0   \n",
      "12      14        3        IN            10000       high             0   \n",
      "\n",
      "    refugeePop  avgCriticalLvl  status  \n",
      "0            0            1.00    open  \n",
      "1            0            1.00  closed  \n",
      "2            5            2.60    open  \n",
      "3            0            1.00    open  \n",
      "4            4            2.75    open  \n",
      "5            2            1.50  closed  \n",
      "6            0            1.00    open  \n",
      "7            0            1.00    open  \n",
      "8            2            3.00    open  \n",
      "9            1            2.00    open  \n",
      "10           0            1.00    open  \n",
      "11           0            1.00  closed  \n",
      "12           0            1.00    open  \n"
     ]
    }
   ],
   "source": [
    "df = pd.read_csv(\"../data/camp.csv\")\n",
    "print(df)"
   ]
  },
  {
   "cell_type": "code",
   "execution_count": 58,
   "metadata": {},
   "outputs": [
    {
     "name": "stdout",
     "output_type": "stream",
     "text": [
      "2     3\n",
      "4     5\n",
      "8     9\n",
      "9    11\n",
      "Name: campID, dtype: int64\n"
     ]
    }
   ],
   "source": [
    "condition = (df['refugeePop']>0) & (df['status']=='open')\n",
    "valid_open = df.loc[condition, ['campID', 'refugeePop']]\n",
    "print(valid_open['campID'])"
   ]
  },
  {
   "cell_type": "code",
   "execution_count": 61,
   "metadata": {},
   "outputs": [],
   "source": [
    "resource_stock_csv_path = \"../data/resourceStock.csv\"\n",
    "resource_allocation_csv_path = \"../data/resourceAllocation.csv\"\n",
    "resource_unallocated_stock_csv_path = \"../data/resourceUnallocatedStock.csv\"\n",
    "\n",
    "totalResources_df = pd.read_csv(resource_stock_csv_path)\n",
    "resourceAllocs_df = pd.read_csv(resource_allocation_csv_path)\n",
    "unallocResources_df = pd.read_csv(resource_unallocated_stock_csv_path)\n",
    "joined_df = pd.merge(totalResources_df, resourceAllocs_df, on='resourceID', how='inner') # does not factor in the camps that dont have allocation but have non zero refugees \n"
   ]
  },
  {
   "cell_type": "code",
   "execution_count": 64,
   "metadata": {},
   "outputs": [
    {
     "name": "stdout",
     "output_type": "stream",
     "text": [
      "    resourceID                      name  total  priorityLvl  campID    qty\n",
      "0            1                  Blankets  10084            2       3   3601\n",
      "1            1                  Blankets  10084            2       5   2881\n",
      "2            1                  Blankets  10084            2       6   1441\n",
      "3            1                  Blankets  10084            2       9   1441\n",
      "4            1                  Blankets  10084            2      11    720\n",
      "5            2                  Clothing   2850            1       3   1018\n",
      "6            2                  Clothing   2850            1       5    814\n",
      "7            2                  Clothing   2850            1       6    407\n",
      "8            2                  Clothing   2850            1       9    407\n",
      "9            2                  Clothing   2850            1      11    204\n",
      "10           3                      Toys     65            3       3     23\n",
      "11           3                      Toys     65            3       5     19\n",
      "12           3                      Toys     65            3       6      9\n",
      "13           3                      Toys     65            3       9      9\n",
      "14           3                      Toys     65            3      11      5\n",
      "15           4                  Medicine    102            1       3     36\n",
      "16           4                  Medicine    102            1       5     29\n",
      "17           4                  Medicine    102            1       6     15\n",
      "18           4                  Medicine    102            1       9     15\n",
      "19           4                  Medicine    102            1      11      7\n",
      "20           5                  Vitamins     84            2       3     30\n",
      "21           5                  Vitamins     84            2       5     24\n",
      "22           5                  Vitamins     84            2       6     12\n",
      "23           5                  Vitamins     84            2       9     12\n",
      "24           5                  Vitamins     84            2      11      6\n",
      "25           6                      Food    102            1       3     36\n",
      "26           6                      Food    102            1       5     29\n",
      "27           6                      Food    102            1       6     15\n",
      "28           6                      Food    102            1       9     15\n",
      "29           6                      Food    102            1      11      7\n",
      "30           7                    Snacks     65            3       3     23\n",
      "31           7                    Snacks     65            3       5     19\n",
      "32           7                    Snacks     65            3       6      9\n",
      "33           7                    Snacks     65            3       9      9\n",
      "34           7                    Snacks     65            3      11      5\n",
      "35           8                Toiletries     84            2       3     30\n",
      "36           8                Toiletries     84            2       5     24\n",
      "37           8                Toiletries     84            2       6     12\n",
      "38           8                Toiletries     84            2       9     12\n",
      "39           8                Toiletries     84            2      11      6\n",
      "40           9                     Water    112            1       3     40\n",
      "41           9                     Water    112            1       5     32\n",
      "42           9                     Water    112            1       6     16\n",
      "43           9                     Water    112            1       9     16\n",
      "44           9                     Water    112            1      11      8\n",
      "45          10             Baby Supplies    102            1       3     36\n",
      "46          10             Baby Supplies    102            1       5     29\n",
      "47          10             Baby Supplies    102            1       6     15\n",
      "48          10             Baby Supplies    102            1       9     15\n",
      "49          10             Baby Supplies    102            1      11      7\n",
      "50          11  General Tools & Supplies  50096            3       3  17891\n",
      "51          11  General Tools & Supplies  50096            3       5  14313\n",
      "52          11  General Tools & Supplies  50096            3       6   7157\n",
      "53          11  General Tools & Supplies  50096            3       9   7157\n",
      "54          11  General Tools & Supplies  50096            3      11   3578\n"
     ]
    },
    {
     "data": {
      "text/plain": [
       "array([ 3,  5,  6,  9, 11])"
      ]
     },
     "execution_count": 64,
     "metadata": {},
     "output_type": "execute_result"
    }
   ],
   "source": [
    "print(joined_df)\n",
    "camps_in_resource_map = joined_df['campID'].unique()"
   ]
  },
  {
   "cell_type": "code",
   "execution_count": 62,
   "metadata": {},
   "outputs": [],
   "source": [
    "resource_camp = joined_df.pivot_table(index=['resourceID', 'name', 'priorityLvl'], columns='campID', values='qty', aggfunc='sum').sort_index(level=0)\n",
    "\n",
    "joined_df_unalloc_camp = pd.merge(unallocResources_df, resource_camp, on='resourceID', how='inner')\n",
    "\n",
    "\n",
    "temp = joined_df_unalloc_camp['unallocTotal'].copy()\n",
    "\n",
    "joined_df_unalloc_camp['unallocTotal'],  joined_df_unalloc_camp['priorityLvl'] = joined_df_unalloc_camp['priorityLvl'], temp\n",
    "joined_df_unalloc_camp.rename(columns={'unallocTotal': 'priorityLvl', 'priorityLvl': 'unallocTotal'}, inplace=True)"
   ]
  },
  {
   "cell_type": "code",
   "execution_count": 67,
   "metadata": {},
   "outputs": [
    {
     "name": "stdout",
     "output_type": "stream",
     "text": [
      "Series([], Name: campID, dtype: int64)\n"
     ]
    }
   ],
   "source": [
    "camps_in_resource_map = joined_df['campID'].unique()\n",
    "valid_camps_without_resources = valid_open[-valid_open['campID'].isin(camps_in_resource_map)]['campID']\n",
    "print(valid_camps_without_resources)\n",
    "\n",
    "## if isempty ... "
   ]
  },
  {
   "cell_type": "code",
   "execution_count": null,
   "metadata": {},
   "outputs": [],
   "source": [
    "# useful validator code\n",
    "\n",
    "# Define the valid range\n",
    "valid_range = range(1, 10)  # For example, 1 to 9\n",
    "\n",
    "while True:\n",
    "    try:\n",
    "        # Ask for user input and convert to integer\n",
    "        user_input = int(input(\"Enter a number between 1 and 9: \"))\n",
    "        \n",
    "        # Check if the input is in the valid range\n",
    "        if user_input in valid_range:\n",
    "            print(\"Valid selection!\")\n",
    "            break  # Exit the loop\n",
    "            \n",
    "    except:\n",
    "        # Handles any exception (non-integer input or out-of-range integer)\n",
    "        print(\"Invalid selection. Please try again.\")\n"
   ]
  },
  {
   "cell_type": "code",
   "execution_count": 19,
   "metadata": {},
   "outputs": [
    {
     "ename": "KeyboardInterrupt",
     "evalue": "",
     "output_type": "error",
     "traceback": [
      "\u001b[0;31m---------------------------------------------------------------------------\u001b[0m",
      "\u001b[0;31mKeyboardInterrupt\u001b[0m                         Traceback (most recent call last)",
      "Cell \u001b[0;32mIn[19], line 6\u001b[0m\n\u001b[1;32m      4\u001b[0m error_message \u001b[39m=\u001b[39m \u001b[39m'\u001b[39m\u001b[39minvalid selection\u001b[39m\u001b[39m'\u001b[39m\n\u001b[1;32m      5\u001b[0m prompt_message \u001b[39m=\u001b[39m \u001b[39m\"\u001b[39m\u001b[39mEnter a number between 1 and 9: \u001b[39m\u001b[39m\"\u001b[39m\n\u001b[0;32m----> 6\u001b[0m test_instance\u001b[39m.\u001b[39;49minput_validator(prompt_message, valid_range, error_message)\n",
      "File \u001b[0;32m~/humanitarian_management_system/humanitarian_management_system/models/resourceReport.py:52\u001b[0m, in \u001b[0;36mResourceReport.input_validator\u001b[0;34m(self, user_input, valid_range, error_message)\u001b[0m\n\u001b[1;32m     49\u001b[0m \u001b[39mtry\u001b[39;00m:\n\u001b[1;32m     50\u001b[0m     \u001b[39m# sometimes we may need to turn the input into ints, but this is not on the function level\u001b[39;00m\n\u001b[1;32m     51\u001b[0m     \u001b[39mif\u001b[39;00m user_input \u001b[39min\u001b[39;00m valid_range:\n\u001b[0;32m---> 52\u001b[0m         \u001b[39mreturn\u001b[39;00m user_input\n\u001b[1;32m     53\u001b[0m \u001b[39mexcept\u001b[39;00m:\n\u001b[1;32m     54\u001b[0m     \u001b[39mprint\u001b[39m(error_message)\n",
      "\u001b[0;31mKeyboardInterrupt\u001b[0m: "
     ]
    }
   ],
   "source": [
    "test_instance = ResourceReport()\n",
    "# trying to use the validator method in resource Report...\n",
    "valid_range = ['y','n']  # or any list of integers, strings, or a mix of both\n",
    "error_message = 'Invalid selection. Please try again.'\n",
    "prompt_message = \"Enter a number between 1 and 9, or a specific string: \"\n",
    "test_instance.input_validator(prompt_message, valid_range, error_message)"
   ]
  }
 ],
 "metadata": {
  "kernelspec": {
   "display_name": ".venv",
   "language": "python",
   "name": "python3"
  },
  "language_info": {
   "codemirror_mode": {
    "name": "ipython",
    "version": 3
   },
   "file_extension": ".py",
   "mimetype": "text/x-python",
   "name": "python",
   "nbconvert_exporter": "python",
   "pygments_lexer": "ipython3",
   "version": "3.9.6"
  },
  "orig_nbformat": 4
 },
 "nbformat": 4,
 "nbformat_minor": 2
}
